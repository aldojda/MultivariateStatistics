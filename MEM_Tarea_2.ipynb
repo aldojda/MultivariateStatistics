{
  "nbformat": 4,
  "nbformat_minor": 0,
  "metadata": {
    "colab": {
      "provenance": [],
      "authorship_tag": "ABX9TyOtq6JbHqCWS0jSMTAd1c+/",
      "include_colab_link": true
    },
    "kernelspec": {
      "name": "python3",
      "display_name": "Python 3"
    },
    "language_info": {
      "name": "python"
    }
  },
  "cells": [
    {
      "cell_type": "markdown",
      "metadata": {
        "id": "view-in-github",
        "colab_type": "text"
      },
      "source": [
        "<a href=\"https://colab.research.google.com/github/aldojda/MultivariateStatistics/blob/main/MEM_Tarea_2.ipynb\" target=\"_parent\"><img src=\"https://colab.research.google.com/assets/colab-badge.svg\" alt=\"Open In Colab\"/></a>"
      ]
    },
    {
      "cell_type": "markdown",
      "source": [
        "# Maestria en Ciencia de Datos\n",
        "\n",
        "# Tarea 2\n",
        "\n",
        "## Aldo Daniel Ojeda Rodriguez\n",
        "\n",
        "\n",
        "**Instrucciones:** Contesta cada uno de los ejercicios en un archivo en Word o en hojas blancas. \n",
        "Puedes usar R, Excel o algún otro software, favor de anexar el código o el archivo de Excel. \n",
        "Al finalizar sube tus evidencias en el lugar correspondiente en Teams.\n",
        "\n",
        "**1.-** Considera las siguientes matrices de covarianzas de un vector aleatorio X. Obtener la \n",
        "matriz de coeficiente de correlaciones para cada caso. Después, interpreta los valores \n",
        "obtenidos.\n",
        "\n",
        "$$\\begin{equation}\n",
        "A = \n",
        "\\left[\n",
        "\\begin{matrix}\n",
        "4 & 3 & -2\\\\\n",
        "3 & 6 & 2\\\\\n",
        "-2 & 2 & 5\n",
        "\\end{matrix}\n",
        "\\right],~ B =\n",
        "\\left[\n",
        "\\begin{matrix}\n",
        "10 & -3 & -1 & 5\\\\\n",
        "-3 & 8 & 3 & 0\\\\\n",
        "-1 & 3 & 15 & 1\\\\\n",
        "5 & 0 & 1 & 4\\\\\n",
        "\\end{matrix}\n",
        "\\right],\n",
        "\\end{equation}$$\n",
        "\n",
        "la matriz de correlacion se puede definir como:\n",
        "\n",
        "$$\n",
        "\\begin{equation}\n",
        "\\rho = (V^{1/2})^{-1}\\Sigma (V^{1/2})^{-1}\n",
        "\\end{equation}\n",
        "$$\n"
      ],
      "metadata": {
        "id": "Q4S7uJe2E_EW"
      }
    },
    {
      "cell_type": "code",
      "source": [
        "import numpy as np\n",
        "def ejercicio_1A():\n",
        "    #Resultado 1\n",
        "    #declaramos A\n",
        "    A= np.matrix([[4,3,-2],[3,6,2],[-2,2,5]])\n",
        "    #obtenemos la matriz v1/2\n",
        "    V_1_2 = np.sqrt(np.eye(3)*np.diag(A))\n",
        "    V_1_2inv = np.linalg.inv(V_1_2)\n",
        "    #Multiplicamos matrices\n",
        "    print('Ejercicio 1a')\n",
        "    print('Resultado :')\n",
        "    return np.dot(np.dot(V_1_2inv,A), V_1_2inv)  \n",
        "ejercicio_1A()"
      ],
      "metadata": {
        "colab": {
          "base_uri": "https://localhost:8080/"
        },
        "id": "468Li5DTGGtJ",
        "outputId": "8c8b2994-0ab0-407f-8733-f53710713f44"
      },
      "execution_count": 30,
      "outputs": [
        {
          "output_type": "stream",
          "name": "stdout",
          "text": [
            "Ejercicio 1a\n",
            "Resultado :\n"
          ]
        },
        {
          "output_type": "execute_result",
          "data": {
            "text/plain": [
              "matrix([[ 1.        ,  0.61237244, -0.4472136 ],\n",
              "        [ 0.61237244,  1.        ,  0.36514837],\n",
              "        [-0.4472136 ,  0.36514837,  1.        ]])"
            ]
          },
          "metadata": {},
          "execution_count": 30
        }
      ]
    },
    {
      "cell_type": "markdown",
      "source": [
        "deacuredo al resultado anterior podemos ver que la correlación entre las variables **X1, X2** es de **0.61** lo cual indica una relación positiva moderada entre ambas variables, por otro lado podemos ver que la correlación entre las variables **X1, X3** es de **-0.44** lo cual indica una correlación negativa moderada y por otro lado tenemos la relación de las variables **X2, X3** siendo su correlación de **0.36** positiva moderada."
      ],
      "metadata": {
        "id": "NW0ujOhPGXn8"
      }
    },
    {
      "cell_type": "code",
      "source": [
        "def ejercicio_1B():\n",
        "    #Resultado 1\n",
        "    #declaramos A\n",
        "    B = np.matrix([[10, -3, -1, 5],[-3, 8, 3, 0],[-1, 3, 15, 1],[5, 0, 1, 4]])\n",
        "    #obtenemos la matriz v1/2\n",
        "    V_1_2 = np.sqrt(np.eye(4)*np.diag(B))\n",
        "    V_1_2inv = np.linalg.inv(V_1_2)\n",
        "    #Multiplicamos matrices\n",
        "    #-------------------------\n",
        "    print('Ejercicio 1b')\n",
        "    print('Resultado :')\n",
        "    #-------------------------\n",
        "    return V_1_2inv * B * V_1_2inv  \n",
        "ejercicio_1B()"
      ],
      "metadata": {
        "colab": {
          "base_uri": "https://localhost:8080/"
        },
        "id": "GFV2U4r_GV1v",
        "outputId": "9ba6b4d6-5a03-40c9-c220-4e90334b7fe9"
      },
      "execution_count": 31,
      "outputs": [
        {
          "output_type": "stream",
          "name": "stdout",
          "text": [
            "Ejercicio 1b\n",
            "Resultado :\n"
          ]
        },
        {
          "output_type": "execute_result",
          "data": {
            "text/plain": [
              "matrix([[ 1.        , -0.3354102 , -0.08164966,  0.79056942],\n",
              "        [-0.3354102 ,  1.        ,  0.27386128,  0.        ],\n",
              "        [-0.08164966,  0.27386128,  1.        ,  0.12909944],\n",
              "        [ 0.79056942,  0.        ,  0.12909944,  1.        ]])"
            ]
          },
          "metadata": {},
          "execution_count": 31
        }
      ]
    },
    {
      "cell_type": "markdown",
      "source": [
        "en la matriz anterior podemos observar lo siguiente: \n",
        "\n",
        "    * El grupo de valor -0.33 muestra una relación negativa moderada (débil)\n",
        "    * Los valores de la matriz cercanos a cero -0.08 y  0 no muestran relación\n",
        "    * Los grupos de **0.12 y 0.27** muestran una relación positiva moderada\n",
        "    * El grupo de correlación de 0.79 muestra una relación positiva fuerte "
      ],
      "metadata": {
        "id": "sHOvZSZGGdUO"
      }
    },
    {
      "cell_type": "markdown",
      "source": [
        "**2.-** Para las matrices del problema 1, obtener  $V^{1/2}$ , $V^{-1/2}$  y verificar que  $ \\rho = V^{-1/2} \\Sigma V^{-1/2}$ y $ \\Sigma = V^{1/2}\\rho V^{1/2} $\n",
        "\n",
        "Del problema 1A podemos obtener los valores $V^{1/2}$ , $V^{-1/2}$ siendo los siguientes:\n",
        "\n",
        "\n",
        "$$\n",
        "\\begin{equation}\n",
        "V^{1/2} = \n",
        "\\left[\n",
        "\\begin{matrix}\n",
        "\\sqrt{2} & 0 & 0\\\\\n",
        "0 & \\sqrt{6} & 0\\\\\n",
        "0 & 0 & \\sqrt{5}\n",
        "\\end{matrix}\n",
        "\\right],  V^{-1/2} = \n",
        "\\left[\n",
        "\\begin{matrix}\n",
        "1 / \\sqrt{2} & 0 & 0\\\\\n",
        "0 & 1 /\\sqrt{6} & 0\\\\\n",
        "0 & 0 & 1 /\\sqrt{5}\n",
        "\\end{matrix}\n",
        "\\right]\n",
        "\\end{equation}$$\n",
        "\n",
        "Operando estas matrices con la matriz del problema 1A tenermos que los valores de $\\rho$ y $\\Sigma$ son los siguientes:\n"
      ],
      "metadata": {
        "id": "72jY640OGfbY"
      }
    },
    {
      "cell_type": "code",
      "source": [
        "v_sqrt_ = np.sqrt(np.matrix([[1/4,0,0], [0,1/6,0],  [0,0, 1/5]]))\n",
        "sigma = np.matrix([[4.0,3.0,-2.0],[3.0,6.0,2.0],[-2.0,2.0,5.0]])\n",
        "#multiplicamos las matrices\n",
        "rho = v_sqrt_ * sigma * v_sqrt_ \n",
        "rho"
      ],
      "metadata": {
        "colab": {
          "base_uri": "https://localhost:8080/"
        },
        "id": "Dx0SSzsSGdyY",
        "outputId": "a7347238-f5c3-44d2-dc8e-c04f14dbcd3f"
      },
      "execution_count": 32,
      "outputs": [
        {
          "output_type": "execute_result",
          "data": {
            "text/plain": [
              "matrix([[ 1.        ,  0.61237244, -0.4472136 ],\n",
              "        [ 0.61237244,  1.        ,  0.36514837],\n",
              "        [-0.4472136 ,  0.36514837,  1.        ]])"
            ]
          },
          "metadata": {},
          "execution_count": 32
        }
      ]
    },
    {
      "cell_type": "code",
      "source": [
        "v_sqrt_ = np.sqrt(np.matrix([[4,0,0], [0,6,0],  [0,0, 5]]))\n",
        "#multiplicamos las matrices\n",
        "sigma = v_sqrt_* rho * v_sqrt_\n",
        "sigma"
      ],
      "metadata": {
        "colab": {
          "base_uri": "https://localhost:8080/"
        },
        "id": "GzTR8w99GlBt",
        "outputId": "18c75a35-8aaa-49b9-9008-fe88d76dafed"
      },
      "execution_count": 33,
      "outputs": [
        {
          "output_type": "execute_result",
          "data": {
            "text/plain": [
              "matrix([[ 4.,  3., -2.],\n",
              "        [ 3.,  6.,  2.],\n",
              "        [-2.,  2.,  5.]])"
            ]
          },
          "metadata": {},
          "execution_count": 33
        }
      ]
    },
    {
      "cell_type": "markdown",
      "source": [
        "en los bloques de código anterior podemos observar que las ecuaciones si se cumplen como se espera.\n",
        "\n",
        "Del problema 1B podemos obtener los valores $V^{1/2}$ , $V^{-1/2}$ siendo los siguientes:\n",
        "\n",
        "\n",
        "$$\n",
        "\\begin{equation}\n",
        "V^{1/2} = \n",
        "\\left[\n",
        "\\begin{matrix}\n",
        "\\sqrt{10} & 0 & 0 & 0\\\\\n",
        "0 & \\sqrt{8} & 0 & 0\\\\\n",
        "0 & 0 & \\sqrt{15} & 0\\\\\n",
        "0 & 0 & 0 & \\sqrt{4}\n",
        "\\end{matrix}\n",
        "\\right],  V^{-1/2} = \n",
        "\\left[\n",
        "\\begin{matrix}\n",
        "1/\\sqrt{10} & 0 & 0 & 0\\\\\n",
        "0 & 1/\\sqrt{8} & 0  & 0\\\\\n",
        "0 & 0 & 1/\\sqrt{15} & 0\\\\\n",
        "0 & 0 & 0 & 1/\\sqrt{4}\n",
        "\\end{matrix}\n",
        "\\right]\n",
        "\\end{equation}$$\n",
        "\n",
        "Operando estas matrices con la matriz del problema 1A tenermos que los valores de $\\rho$ y $\\Sigma$ son los siguientes:"
      ],
      "metadata": {
        "id": "dXe3pRdIGqPm"
      }
    },
    {
      "cell_type": "code",
      "source": [
        "v_sqrt_ = np.sqrt(np.matrix([[1/10,0,0, 0], [0,1/8,0, 0],  [0,0, 1/15, 0], [0,0, 0, 1/4]]))\n",
        "sigma = np.matrix([[10, -3, -1, 5],[-3, 8, 3, 0],[-1, 3, 15, 1],[5, 0, 1, 4]])\n",
        "#multiplicamos las matrices\n",
        "rho = v_sqrt_ * sigma * v_sqrt_ \n",
        "rho"
      ],
      "metadata": {
        "colab": {
          "base_uri": "https://localhost:8080/"
        },
        "id": "c5JwfexLGmDB",
        "outputId": "1897e884-f78b-41ea-bed3-f0dba06d59aa"
      },
      "execution_count": 34,
      "outputs": [
        {
          "output_type": "execute_result",
          "data": {
            "text/plain": [
              "matrix([[ 1.        , -0.3354102 , -0.08164966,  0.79056942],\n",
              "        [-0.3354102 ,  1.        ,  0.27386128,  0.        ],\n",
              "        [-0.08164966,  0.27386128,  1.        ,  0.12909944],\n",
              "        [ 0.79056942,  0.        ,  0.12909944,  1.        ]])"
            ]
          },
          "metadata": {},
          "execution_count": 34
        }
      ]
    },
    {
      "cell_type": "code",
      "source": [
        "v_sqrt_ = np.sqrt(np.matrix([[10,0,0, 0], [0,8,0, 0],  [0,0, 15, 0], [0,0, 0, 4]]))\n",
        "#multiplicamos las matrices\n",
        "sigma = v_sqrt_ * rho * v_sqrt_ \n",
        "sigma"
      ],
      "metadata": {
        "colab": {
          "base_uri": "https://localhost:8080/"
        },
        "id": "97ECHw6XG2bT",
        "outputId": "a7057279-2910-4da1-f145-f7a9f27f776c"
      },
      "execution_count": 35,
      "outputs": [
        {
          "output_type": "execute_result",
          "data": {
            "text/plain": [
              "matrix([[10., -3., -1.,  5.],\n",
              "        [-3.,  8.,  3.,  0.],\n",
              "        [-1.,  3., 15.,  1.],\n",
              "        [ 5.,  0.,  1.,  4.]])"
            ]
          },
          "metadata": {},
          "execution_count": 35
        }
      ]
    },
    {
      "cell_type": "markdown",
      "source": [
        " como hemos observado al operar estos resultados podemos volver a generar los valores de $\\rho$ Y $\\Sigma$.\n",
        "\n",
        "**3.-** Considera que : \n",
        "\n",
        "$$\\begin{equation}\n",
        " \\Sigma  =\n",
        "\\left[\n",
        "\\begin{matrix}\n",
        "10 & -3 & -1 & 5\\\\\n",
        "-3 & 8 & 3 & 0\\\\\n",
        "-1 & 3 & 15 & 1\\\\\n",
        "5 & 0 & 1 & 4\\\\\n",
        "\\end{matrix}\n",
        "\\right],\n",
        "\\end{equation}$$\n",
        "\n",
        "Obtener: \n",
        "\n",
        "A)  $Cov ~ (2X_1, - 4X_2)$.\n",
        "\n",
        "\n",
        "$$Cov ~ (aX_1, bX_2) = ab\\sigma_{1,2}$$\n",
        " \n",
        "por lo tanto: \n",
        "\n",
        "$$Cov ~ (2X_1, - 4X_2) = 2 \\cdot -4 \\cdot \\sigma_{1,2}$$\n",
        "\n",
        "de la matriz $\\Sigma$ tenemos que  $\\sigma_{1,2} = -3$,  aplicandolo a la ecuación anterior tenemos que : \n",
        "\n",
        "$$Cov ~ (aX_1, bX_2) =  2 \\cdot -4 \\cdot -3 = 24 $$\n"
      ],
      "metadata": {
        "id": "zy_R3gfaG8MG"
      }
    },
    {
      "cell_type": "code",
      "source": [
        "#calculo de covarianza\n",
        "sigma = np.matrix([[10.0, -3.0, -1.0, 5.0], [-3.0, 8.0, 3.0, 0.0], [-1.0, 3.0, 15.0, 1], [5.0, 0, 1.0, 4.0]])\n",
        "c = np.matrix([[2, 0, 0, 0], [0, -4.0, 0.0, 0.0], [0.0, 0.0, 0.0, 0], [0.0, 0, 0.0, 0.0]])\n",
        "c* sigma* c.T"
      ],
      "metadata": {
        "colab": {
          "base_uri": "https://localhost:8080/"
        },
        "id": "bP5nEb2QG57U",
        "outputId": "630c5be0-853a-41d6-ff87-ce85c2ce258d"
      },
      "execution_count": 36,
      "outputs": [
        {
          "output_type": "execute_result",
          "data": {
            "text/plain": [
              "matrix([[ 40.,  24.,   0.,   0.],\n",
              "        [ 24., 128.,   0.,   0.],\n",
              "        [  0.,   0.,   0.,   0.],\n",
              "        [  0.,   0.,   0.,   0.]])"
            ]
          },
          "metadata": {},
          "execution_count": 36
        }
      ]
    },
    {
      "cell_type": "markdown",
      "source": [
        "B ) $Var ~ (3X_2-2X_3)$\n",
        "\n",
        "Deacuerdo a las propiedades de la varianza tenemos:\n",
        "\n",
        "$$\\begin{equation} Var ~ (aX_1+ bX_2)  = Var ~ (\\textbf{c'X}) = \\textbf{c'}\n",
        "\\Sigma \\textbf{c}\n",
        "\\end{equation}$$\n",
        "\n",
        "siendo\n",
        "\n",
        "$$\\begin{equation}\n",
        " c  =\n",
        "\\left[\n",
        "\\begin{matrix}\n",
        " 0\\\\\n",
        "3 \\\\\n",
        "-2\\\\\n",
        "0 \\\\\n",
        "\\end{matrix}\n",
        "\\right]\n",
        "\\end{equation}$$\n",
        "\n",
        "operando **c** y $\\Sigma$ tenemos\n",
        "\n",
        "\n",
        "$$\\begin{equation} \n",
        "Var ~ (3X_2-2X_3) = \n",
        "\\left[\n",
        "\\begin{matrix}\n",
        " 0 & 3 & -2 & 0 \n",
        "\\end{matrix}\n",
        "\\right] \\left[\n",
        "\\begin{matrix}\n",
        "10 & -3 & -1 & 5\\\\\n",
        "-3 & 8 & 3 & 0\\\\\n",
        "-1 & 3 & 15 & 1\\\\\n",
        "5 & 0 & 1 & 4\\\\\n",
        "\\end{matrix}\n",
        "\\right] \\left[\n",
        "\\begin{matrix}\n",
        " 0\\\\\n",
        "3 \\\\\n",
        "-2\\\\\n",
        "0 \\\\\n",
        "\\end{matrix}\n",
        "\\right] = 96\n",
        "\\end{equation}$$\n"
      ],
      "metadata": {
        "id": "hSCabGVWHEvc"
      }
    },
    {
      "cell_type": "code",
      "source": [
        "sigma = np.matrix([[10.0, -3.0, -1.0, 5.0], [-3.0, 8.0, 3.0, 0.0], [-1.0, 3.0, 15.0, 1], [5.0, 0, 1.0, 4.0]])\n",
        "c = np.matrix([0,3, -2, 0])\n",
        "c* sigma* c.T"
      ],
      "metadata": {
        "colab": {
          "base_uri": "https://localhost:8080/"
        },
        "id": "6e5GH0BbHBpR",
        "outputId": "0f8ed760-fe70-407a-fd80-8e9472ff8af7"
      },
      "execution_count": 37,
      "outputs": [
        {
          "output_type": "execute_result",
          "data": {
            "text/plain": [
              "matrix([[96.]])"
            ]
          },
          "metadata": {},
          "execution_count": 37
        }
      ]
    },
    {
      "cell_type": "markdown",
      "source": [
        "C ) $Var ~ (2X_1-4X_2+3X_3-X_4)$\n",
        "\n",
        "Deacuerdo a las propiedades de la varianza tenemos:\n",
        "\n",
        "$$\\begin{equation} Var ~ (aX_1+ bX_2)  = Var ~ (\\textbf{c'X}) = \\textbf{c'}\n",
        "\\Sigma \\textbf{c}\n",
        "\\end{equation}$$\n",
        "\n",
        "siendo\n",
        "\n",
        "$$\\begin{equation}\n",
        " c  =\n",
        "\\left[\n",
        "\\begin{matrix}\n",
        " 2\\\\\n",
        "-4 \\\\\n",
        "3\\\\\n",
        "-1 \\\\\n",
        "\\end{matrix}\n",
        "\\right]\n",
        "\\end{equation}$$\n",
        "\n",
        "operando **c** y $\\Sigma$ tenemos\n",
        "\n",
        "\n",
        "$$\\begin{equation} \n",
        "Var ~ (3X_2-2X_3) = \n",
        "\\left[\n",
        "\\begin{matrix}\n",
        " 2 & -4 & 3 & -1 \n",
        "\\end{matrix}\n",
        "\\right] \\left[\n",
        "\\begin{matrix}\n",
        "10 & -3 & -1 & 5\\\\\n",
        "-3 & 8 & 3 & 0\\\\\n",
        "-1 & 3 & 15 & 1\\\\\n",
        "5 & 0 & 1 & 4\\\\\n",
        "\\end{matrix}\n",
        "\\right] \\left[\n",
        "\\begin{matrix}\n",
        " 2\\\\\n",
        "-4 \\\\\n",
        "3\\\\\n",
        "-1 \\\\\n",
        "\\end{matrix}\n",
        "\\right] = 245\n",
        "\\end{equation}$$"
      ],
      "metadata": {
        "id": "uRYeIxn6OSMf"
      }
    },
    {
      "cell_type": "code",
      "source": [
        "sigma = np.matrix([[10.0, -3.0, -1.0, 5.0], [-3.0, 8.0, 3.0, 0.0], [-1.0, 3.0, 15.0, 1], [5.0, 0, 1.0, 4.0]])\n",
        "c = np.matrix([2,-4, 3, -1])\n",
        "c* sigma* c.T"
      ],
      "metadata": {
        "colab": {
          "base_uri": "https://localhost:8080/"
        },
        "id": "KDo4n3wGOPaT",
        "outputId": "1da027d7-ac0f-4825-ae9a-40e033964413"
      },
      "execution_count": 38,
      "outputs": [
        {
          "output_type": "execute_result",
          "data": {
            "text/plain": [
              "matrix([[245.]])"
            ]
          },
          "metadata": {},
          "execution_count": 38
        }
      ]
    },
    {
      "cell_type": "markdown",
      "source": [
        "**4.-** Considera que : \n",
        "\n",
        "$$\\begin{equation}\n",
        " \\Sigma_X  =\n",
        "\\left[\n",
        "\\begin{matrix}\n",
        "12 & 5 & 12\\\\\n",
        "5 & 16 & 15\\\\\n",
        "12 & 15 & 20\\\\\n",
        "\\end{matrix}\n",
        "\\right].\n",
        "\\end{equation}$$\n",
        "\n",
        "Obtener la matriz de covarianzas del vector aleatorio Z donde:\n",
        "\n",
        "A) $Z_1 = 3X_1 − 2X_2 + 5X_3$ ,  $Z_2 = 9X_1 + 6X_2 − 8X_3$ , $Z_3 = 4X_1 + X_2 − X_3$\n",
        "\n",
        "obtenemos la matriz A:\n",
        "\n",
        "$$\\begin{equation}\n",
        " A  =\n",
        "\\left[\n",
        "\\begin{matrix}\n",
        "3 & -2 & 5\\\\\n",
        "9 & 6 & -8\\\\\n",
        "4 & 1 & -1\\\\\n",
        "\\end{matrix}\n",
        "\\right].\n",
        "\\end{equation}$$\n",
        "\n",
        "y operamos \n",
        " $$Cov~(AX) = A \\Sigma_X A' $$"
      ],
      "metadata": {
        "id": "5xC7qCfFL8xk"
      }
    },
    {
      "cell_type": "code",
      "source": [
        "sigma = np.matrix([[12,5, 12], [5,16, 15], [12,15,20]])\n",
        "a = np.matrix([[3,-2, 5], [9,6, -8], [4,1,-1]])\n",
        "a * sigma * a.T"
      ],
      "metadata": {
        "id": "SoyyiYY7OfQj",
        "colab": {
          "base_uri": "https://localhost:8080/"
        },
        "outputId": "80fa9ec6-dcd4-4833-e57d-c34c1e9c5367"
      },
      "execution_count": 39,
      "outputs": [
        {
          "output_type": "execute_result",
          "data": {
            "text/plain": [
              "matrix([[672, 274, 296],\n",
              "        [274, 200, 151],\n",
              "        [296, 151, 142]])"
            ]
          },
          "metadata": {},
          "execution_count": 39
        }
      ]
    },
    {
      "cell_type": "markdown",
      "source": [
        "B) $Z_1 = 5X_1 − 2X_2 + 9X_3$\n",
        ", $Z_2 = X_1 + X_2 − X_3$\n",
        ", $Z_3 = 3X_1 + X_2 − 2X_3$\n",
        ", $Z_4 = 4X_1 + X_2$\n",
        "\n",
        "obtenemos la matriz B:\n",
        "\n",
        "$$\\begin{equation}\n",
        " B  =\n",
        "\\left[\n",
        "\\begin{matrix}\n",
        "5 & -2 & 9\\\\\n",
        "1 & 1 & -1\\\\\n",
        "3 & 1 & -2\\\\\n",
        "4 & 1 & 0\\\\\n",
        "\\end{matrix}\n",
        "\\right]\n",
        "\\end{equation}$$"
      ],
      "metadata": {
        "id": "LygNtw7BObQ8"
      }
    },
    {
      "cell_type": "code",
      "source": [
        "sigma = np.matrix([[12,5, 12], [5,16, 15], [12,15,20]])\n",
        "b = np.matrix([[5,-2, 9], [1, 1, -1], [3, 1, -2], [4, 1, 0]])\n",
        "b * sigma * b.T"
      ],
      "metadata": {
        "colab": {
          "base_uri": "https://localhost:8080/"
        },
        "id": "C0w_Vv5UNqCS",
        "outputId": "a9aafbd8-d642-4b5a-b57c-b33dcf1006f2"
      },
      "execution_count": 40,
      "outputs": [
        {
          "output_type": "execute_result",
          "data": {
            "text/plain": [
              "matrix([[2424,   76,  182,  760],\n",
              "        [  76,    4,    7,   26],\n",
              "        [ 182,    7,   30,   69],\n",
              "        [ 760,   26,   69,  248]])"
            ]
          },
          "metadata": {},
          "execution_count": 40
        }
      ]
    },
    {
      "cell_type": "markdown",
      "source": [
        "**5**. - Considera la matriz $Σ$ del problema 4. Obtener la distancia estadística (Mahalanobis) entre los dos puntos A, B dados. \n",
        "\n",
        "A) $A(3,−4,5)$ y $B(1,3,−2)$. \n",
        "\n",
        "Por definición tenemos que la distancia de Mahalonobis para dos vectores es: \n",
        "\n",
        "\n",
        "$$d(x, y) = \\sqrt{(x-y)'\\Sigma^{-1}(x-y)} $$ \n",
        "\n",
        "obtenemos la matriz $\\Sigma^{-1}$ : \n",
        "\n",
        "$$\\begin{equation}\n",
        " \\Sigma^{-1}  =\n",
        "\\left[\n",
        "\\begin{matrix}\n",
        "0.69 &  0.58 & -0.86\\\\\n",
        "0.58 &  0.70 & -0.88\\\\\n",
        "-0.86 & -0.88 & 1.22\\\\\n",
        "\\end{matrix}\n",
        "\\right].\n",
        "\\end{equation}$$\n",
        "\n",
        "y operamos:"
      ],
      "metadata": {
        "id": "LcUMaAjlQUHj"
      }
    },
    {
      "cell_type": "code",
      "source": [
        "import numpy as np\n",
        "sigma = np.matrix([[12,5, 12], [5,16, 15], [12,15,20]])\n",
        "sigma_inv = np.linalg.inv(sigma)\n",
        "a = np.matrix([3,-4,5]).T\n",
        "b = np.matrix([1,3,-2]).T\n",
        "np.sqrt((a-b).T * sigma_inv * (a-b))"
      ],
      "metadata": {
        "colab": {
          "base_uri": "https://localhost:8080/"
        },
        "id": "4-f69l1vM-Wf",
        "outputId": "a52fe046-00ed-41b1-c0ed-f16d7cd199c3"
      },
      "execution_count": 41,
      "outputs": [
        {
          "output_type": "execute_result",
          "data": {
            "text/plain": [
              "matrix([[11.97761392]])"
            ]
          },
          "metadata": {},
          "execution_count": 41
        }
      ]
    },
    {
      "cell_type": "markdown",
      "source": [
        "\n",
        "B) $A( 4,−8,9)$ y $B( 6,9,10)$.\n"
      ],
      "metadata": {
        "id": "1mcvk9EDxCwT"
      }
    },
    {
      "cell_type": "code",
      "source": [
        "import numpy as np\n",
        "sigma = np.matrix([[12,5, 12], [5,16, 15], [12,15,20]])\n",
        "sigma_inv = np.linalg.inv(sigma)\n",
        "a = np.matrix([4,-8,9]).T\n",
        "b = np.matrix([6,9,10]).T\n",
        "np.sqrt((a-b).T * sigma_inv * (a-b))"
      ],
      "metadata": {
        "colab": {
          "base_uri": "https://localhost:8080/"
        },
        "id": "I-a69EprxDfl",
        "outputId": "6aae21b1-3609-4fc3-e364-83c73a8a4c98"
      },
      "execution_count": 42,
      "outputs": [
        {
          "output_type": "execute_result",
          "data": {
            "text/plain": [
              "matrix([[14.64857953]])"
            ]
          },
          "metadata": {},
          "execution_count": 42
        }
      ]
    },
    {
      "cell_type": "markdown",
      "source": [
        "C) $A( 10,4,15)$ y el origen.\n",
        "\n"
      ],
      "metadata": {
        "id": "keM7JEkUPRlX"
      }
    },
    {
      "cell_type": "code",
      "source": [
        "import numpy as np\n",
        "sigma = np.matrix([[12,5, 12], [5,16, 15], [12,15,20]])\n",
        "sigma_inv = np.linalg.inv(sigma)\n",
        "a = np.matrix([10,4,15]).T\n",
        "b = np.matrix([0,0,0]).T\n",
        "np.sqrt((a-b).T * sigma_inv * (a-b))"
      ],
      "metadata": {
        "colab": {
          "base_uri": "https://localhost:8080/"
        },
        "id": "Qyp55ukmVydn",
        "outputId": "9a4995c6-5d30-451d-b5c0-884def8ffe92"
      },
      "execution_count": 43,
      "outputs": [
        {
          "output_type": "execute_result",
          "data": {
            "text/plain": [
              "matrix([[6.3656939]])"
            ]
          },
          "metadata": {},
          "execution_count": 43
        }
      ]
    },
    {
      "cell_type": "markdown",
      "source": [
        "**6**.- Considera las matrices de covarianzas del problema 1. Para cada una obtener su varianza generalizada\n",
        "\n",
        "podemos definir la varianza generalizada como el determinante de la matriz de covarianza\n",
        "por lo tanto para la matriz A del problema 1 tenemos:\n",
        "\n"
      ],
      "metadata": {
        "id": "7SJaEla3VzXM"
      }
    },
    {
      "cell_type": "code",
      "source": [
        "import numpy as np\n",
        "A= np.matrix([[4.0,3.0,-2.0],[3.0,6.0,2.0],[-2.0,2.0,5.0]])\n",
        "np.linalg.det(A).round(3)"
      ],
      "metadata": {
        "colab": {
          "base_uri": "https://localhost:8080/"
        },
        "id": "l9N4Qvt7vgoX",
        "outputId": "7361cf38-4a12-4a42-a590-c079d543cdfe"
      },
      "execution_count": 44,
      "outputs": [
        {
          "output_type": "execute_result",
          "data": {
            "text/plain": [
              "11.0"
            ]
          },
          "metadata": {},
          "execution_count": 44
        }
      ]
    },
    {
      "cell_type": "markdown",
      "source": [
        "y para la matriz B del problema 1 tenemos:"
      ],
      "metadata": {
        "id": "tibb6XKcydRK"
      }
    },
    {
      "cell_type": "code",
      "source": [
        "B = np.matrix([[10, -3, -1, 5],[-3, 8, 3, 0],[-1, 3, 15, 1],[5, 0, 1, 4]])\n",
        "np.linalg.det(B).round(5)"
      ],
      "metadata": {
        "colab": {
          "base_uri": "https://localhost:8080/"
        },
        "id": "1hF1P043yix5",
        "outputId": "2e5377f5-4ce0-406b-a749-a035a4c62a20"
      },
      "execution_count": 45,
      "outputs": [
        {
          "output_type": "execute_result",
          "data": {
            "text/plain": [
              "1104.0"
            ]
          },
          "metadata": {},
          "execution_count": 45
        }
      ]
    },
    {
      "cell_type": "markdown",
      "source": [
        "**7**.- Sea $X$ un vector aleatorio con distribución $N_5(μ, Σ)$, obtener:\n",
        "\n",
        "A) $P\\{(X-μ)'Σ^{-1}(X-μ)>3\\}$\n",
        "\n",
        "Sabamos que \n",
        "\n",
        "$$\n",
        "(X-\\mu)'Σ^{-1}(X-\\mu) ≈ χ^2_p\n",
        "$$\n",
        "\n",
        "además sabemos que: \n",
        "\n",
        "$$X ≈ N_5(μ, Σ) ≈ d^2(X-μ)$$\n",
        "por lo tanto la probabilidad \n",
        "\n",
        "$$P\\{(X-μ)'Σ^{-1}(X-μ)>3\\} = P\\{d^2(X-μ > 3)\\} = 1- χ^2.cdf(3,5) $$ "
      ],
      "metadata": {
        "id": "1feriHqhvb2g"
      }
    },
    {
      "cell_type": "code",
      "source": [
        "from scipy.stats import chi2\n",
        "1 - chi2.cdf(x = 3,df = 5, loc=0, scale=1)"
      ],
      "metadata": {
        "colab": {
          "base_uri": "https://localhost:8080/"
        },
        "id": "CEBpu9xWOhQ3",
        "outputId": "06dd4e87-1ecb-4cb5-d98b-b7ab6d3c835c"
      },
      "execution_count": 46,
      "outputs": [
        {
          "output_type": "execute_result",
          "data": {
            "text/plain": [
              "0.6999858358786276"
            ]
          },
          "metadata": {},
          "execution_count": 46
        }
      ]
    },
    {
      "cell_type": "markdown",
      "source": [
        "B) $~ P\\{4<(X-μ)'Σ^{-1}(X-μ)< 6\\}$"
      ],
      "metadata": {
        "id": "NiW_Y3hhSm5b"
      }
    },
    {
      "cell_type": "code",
      "source": [
        "chi2.cdf(x = 6,df = 5, loc=0, scale=1) - chi2.cdf(x = 4,df = 5, loc=0, scale=1)"
      ],
      "metadata": {
        "colab": {
          "base_uri": "https://localhost:8080/"
        },
        "id": "0fDp_s2dTKfn",
        "outputId": "b080e1d3-ea01-4abe-e453-756ecac6665f"
      },
      "execution_count": 47,
      "outputs": [
        {
          "output_type": "execute_result",
          "data": {
            "text/plain": [
              "0.24319703293950146"
            ]
          },
          "metadata": {},
          "execution_count": 47
        }
      ]
    },
    {
      "cell_type": "markdown",
      "source": [
        "C) $~ P\\{(X-μ)'Σ^{-1}(X-μ)< 2\\}$"
      ],
      "metadata": {
        "id": "ojFFxYXdT_bI"
      }
    },
    {
      "cell_type": "code",
      "source": [
        "chi2.cdf(x = 2,df = 5, loc=0, scale=1)"
      ],
      "metadata": {
        "colab": {
          "base_uri": "https://localhost:8080/"
        },
        "id": "6z1J8s7hT_BX",
        "outputId": "0de10135-4584-4d79-f576-89ea42d4298c"
      },
      "execution_count": 48,
      "outputs": [
        {
          "output_type": "execute_result",
          "data": {
            "text/plain": [
              "0.15085496391539038"
            ]
          },
          "metadata": {},
          "execution_count": 48
        }
      ]
    },
    {
      "cell_type": "markdown",
      "source": [
        "C) Obtener el valor de $w$ tal que :   \n",
        "\n",
        "$~ P\\{(X-μ)'Σ^{-1}(X-μ)< w\\} = 0.85$"
      ],
      "metadata": {
        "id": "_i9iB3xcVeSd"
      }
    },
    {
      "cell_type": "code",
      "source": [
        "chi2.ppf(q = 0.85 ,df = 5, loc=0, scale=1)"
      ],
      "metadata": {
        "colab": {
          "base_uri": "https://localhost:8080/"
        },
        "id": "4IExK532WHfO",
        "outputId": "ae2c2166-fba7-4c22-8d85-0979f1488eb2"
      },
      "execution_count": 49,
      "outputs": [
        {
          "output_type": "execute_result",
          "data": {
            "text/plain": [
              "8.11519941305293"
            ]
          },
          "metadata": {},
          "execution_count": 49
        }
      ]
    },
    {
      "cell_type": "markdown",
      "source": [
        "\n",
        "8.- Considera la muestra aleatoria de un vector aleatorio (datos en el ícono).\n",
        "Obtener X y S. Interpreta los valores obtenidos."
      ],
      "metadata": {
        "id": "bq76iKaaRDAy"
      }
    },
    {
      "cell_type": "code",
      "source": [
        "#importamos google coolab para trabajar con archivos de Drive\n",
        "from google.colab import drive\n",
        "drive.mount(\"/content/gdrive\")"
      ],
      "metadata": {
        "id": "LVpT8_ocQyoI",
        "colab": {
          "base_uri": "https://localhost:8080/"
        },
        "outputId": "0c09c60e-25d9-4bbe-9e55-737f2302f322"
      },
      "execution_count": 50,
      "outputs": [
        {
          "output_type": "stream",
          "name": "stdout",
          "text": [
            "Drive already mounted at /content/gdrive; to attempt to forcibly remount, call drive.mount(\"/content/gdrive\", force_remount=True).\n"
          ]
        }
      ]
    },
    {
      "cell_type": "code",
      "source": [
        "import pandas as pd\n",
        "df = pd.read_csv(\"gdrive/MyDrive/Maestría Ciencia de Datos/ Métodos Estadísticos Multivariados/datos_tarea2.csv\")\n",
        "df.head(2)"
      ],
      "metadata": {
        "colab": {
          "base_uri": "https://localhost:8080/",
          "height": 112
        },
        "id": "ue20-W_cZ1_W",
        "outputId": "2c83f148-d7bc-4799-9e2f-74c1ede01d4c"
      },
      "execution_count": 51,
      "outputs": [
        {
          "output_type": "execute_result",
          "data": {
            "text/plain": [
              "       X1       X2       X3       X4       X5\n",
              "0  91.165  106.549  146.410  313.598  509.574\n",
              "1  94.264  120.121  155.148  321.554  500.530"
            ],
            "text/html": [
              "\n",
              "  <div id=\"df-ec83c430-d28e-4a29-9e18-0897bced12c8\">\n",
              "    <div class=\"colab-df-container\">\n",
              "      <div>\n",
              "<style scoped>\n",
              "    .dataframe tbody tr th:only-of-type {\n",
              "        vertical-align: middle;\n",
              "    }\n",
              "\n",
              "    .dataframe tbody tr th {\n",
              "        vertical-align: top;\n",
              "    }\n",
              "\n",
              "    .dataframe thead th {\n",
              "        text-align: right;\n",
              "    }\n",
              "</style>\n",
              "<table border=\"1\" class=\"dataframe\">\n",
              "  <thead>\n",
              "    <tr style=\"text-align: right;\">\n",
              "      <th></th>\n",
              "      <th>X1</th>\n",
              "      <th>X2</th>\n",
              "      <th>X3</th>\n",
              "      <th>X4</th>\n",
              "      <th>X5</th>\n",
              "    </tr>\n",
              "  </thead>\n",
              "  <tbody>\n",
              "    <tr>\n",
              "      <th>0</th>\n",
              "      <td>91.165</td>\n",
              "      <td>106.549</td>\n",
              "      <td>146.410</td>\n",
              "      <td>313.598</td>\n",
              "      <td>509.574</td>\n",
              "    </tr>\n",
              "    <tr>\n",
              "      <th>1</th>\n",
              "      <td>94.264</td>\n",
              "      <td>120.121</td>\n",
              "      <td>155.148</td>\n",
              "      <td>321.554</td>\n",
              "      <td>500.530</td>\n",
              "    </tr>\n",
              "  </tbody>\n",
              "</table>\n",
              "</div>\n",
              "      <button class=\"colab-df-convert\" onclick=\"convertToInteractive('df-ec83c430-d28e-4a29-9e18-0897bced12c8')\"\n",
              "              title=\"Convert this dataframe to an interactive table.\"\n",
              "              style=\"display:none;\">\n",
              "        \n",
              "  <svg xmlns=\"http://www.w3.org/2000/svg\" height=\"24px\"viewBox=\"0 0 24 24\"\n",
              "       width=\"24px\">\n",
              "    <path d=\"M0 0h24v24H0V0z\" fill=\"none\"/>\n",
              "    <path d=\"M18.56 5.44l.94 2.06.94-2.06 2.06-.94-2.06-.94-.94-2.06-.94 2.06-2.06.94zm-11 1L8.5 8.5l.94-2.06 2.06-.94-2.06-.94L8.5 2.5l-.94 2.06-2.06.94zm10 10l.94 2.06.94-2.06 2.06-.94-2.06-.94-.94-2.06-.94 2.06-2.06.94z\"/><path d=\"M17.41 7.96l-1.37-1.37c-.4-.4-.92-.59-1.43-.59-.52 0-1.04.2-1.43.59L10.3 9.45l-7.72 7.72c-.78.78-.78 2.05 0 2.83L4 21.41c.39.39.9.59 1.41.59.51 0 1.02-.2 1.41-.59l7.78-7.78 2.81-2.81c.8-.78.8-2.07 0-2.86zM5.41 20L4 18.59l7.72-7.72 1.47 1.35L5.41 20z\"/>\n",
              "  </svg>\n",
              "      </button>\n",
              "      \n",
              "  <style>\n",
              "    .colab-df-container {\n",
              "      display:flex;\n",
              "      flex-wrap:wrap;\n",
              "      gap: 12px;\n",
              "    }\n",
              "\n",
              "    .colab-df-convert {\n",
              "      background-color: #E8F0FE;\n",
              "      border: none;\n",
              "      border-radius: 50%;\n",
              "      cursor: pointer;\n",
              "      display: none;\n",
              "      fill: #1967D2;\n",
              "      height: 32px;\n",
              "      padding: 0 0 0 0;\n",
              "      width: 32px;\n",
              "    }\n",
              "\n",
              "    .colab-df-convert:hover {\n",
              "      background-color: #E2EBFA;\n",
              "      box-shadow: 0px 1px 2px rgba(60, 64, 67, 0.3), 0px 1px 3px 1px rgba(60, 64, 67, 0.15);\n",
              "      fill: #174EA6;\n",
              "    }\n",
              "\n",
              "    [theme=dark] .colab-df-convert {\n",
              "      background-color: #3B4455;\n",
              "      fill: #D2E3FC;\n",
              "    }\n",
              "\n",
              "    [theme=dark] .colab-df-convert:hover {\n",
              "      background-color: #434B5C;\n",
              "      box-shadow: 0px 1px 3px 1px rgba(0, 0, 0, 0.15);\n",
              "      filter: drop-shadow(0px 1px 2px rgba(0, 0, 0, 0.3));\n",
              "      fill: #FFFFFF;\n",
              "    }\n",
              "  </style>\n",
              "\n",
              "      <script>\n",
              "        const buttonEl =\n",
              "          document.querySelector('#df-ec83c430-d28e-4a29-9e18-0897bced12c8 button.colab-df-convert');\n",
              "        buttonEl.style.display =\n",
              "          google.colab.kernel.accessAllowed ? 'block' : 'none';\n",
              "\n",
              "        async function convertToInteractive(key) {\n",
              "          const element = document.querySelector('#df-ec83c430-d28e-4a29-9e18-0897bced12c8');\n",
              "          const dataTable =\n",
              "            await google.colab.kernel.invokeFunction('convertToInteractive',\n",
              "                                                     [key], {});\n",
              "          if (!dataTable) return;\n",
              "\n",
              "          const docLinkHtml = 'Like what you see? Visit the ' +\n",
              "            '<a target=\"_blank\" href=https://colab.research.google.com/notebooks/data_table.ipynb>data table notebook</a>'\n",
              "            + ' to learn more about interactive tables.';\n",
              "          element.innerHTML = '';\n",
              "          dataTable['output_type'] = 'display_data';\n",
              "          await google.colab.output.renderOutput(dataTable, element);\n",
              "          const docLink = document.createElement('div');\n",
              "          docLink.innerHTML = docLinkHtml;\n",
              "          element.appendChild(docLink);\n",
              "        }\n",
              "      </script>\n",
              "    </div>\n",
              "  </div>\n",
              "  "
            ]
          },
          "metadata": {},
          "execution_count": 51
        }
      ]
    },
    {
      "cell_type": "markdown",
      "source": [
        "obtenemos X"
      ],
      "metadata": {
        "id": "jJb7IZI9b09P"
      }
    },
    {
      "cell_type": "code",
      "source": [
        "import numpy as np\n",
        "df"
      ],
      "metadata": {
        "colab": {
          "base_uri": "https://localhost:8080/",
          "height": 1000
        },
        "id": "IsZbfr3UaTVu",
        "outputId": "b747c0e4-ceea-44ed-a99c-2fa6fa8f27b9"
      },
      "execution_count": 52,
      "outputs": [
        {
          "output_type": "execute_result",
          "data": {
            "text/plain": [
              "         X1       X2       X3       X4       X5\n",
              "0    91.165  106.549  146.410  313.598  509.574\n",
              "1    94.264  120.121  155.148  321.554  500.530\n",
              "2    90.704  102.270  160.374  307.334  502.790\n",
              "3    88.221   97.923  162.187  304.159  516.541\n",
              "4    97.493  110.621  132.752  287.310  511.783\n",
              "5   100.526  106.908  166.806  312.559  497.740\n",
              "6   101.938  119.148  166.650  302.406  517.939\n",
              "7    90.320   88.899  157.938  296.041  489.497\n",
              "8    91.198  106.482  146.842  290.708  507.501\n",
              "9    90.265   94.632  160.773  297.262  497.114\n",
              "10   88.971   98.043  147.283  314.401  490.577\n",
              "11   95.846  107.462  150.816  299.442  504.984\n",
              "12   82.807   97.962  144.698  294.896  507.676\n",
              "13   85.453   91.489  128.124  295.481  484.162\n",
              "14   87.837   96.181  129.412  295.194  493.443\n",
              "15   88.713  102.343  149.718  303.305  507.263\n",
              "16   90.031   99.401  150.917  303.203  503.830\n",
              "17   91.493  103.983  162.394  297.580  514.231\n",
              "18   92.502  100.300  155.096  295.435  498.803\n",
              "19   95.594  105.693  157.010  304.972  496.025\n",
              "20  101.343  122.262  156.679  313.046  510.512\n",
              "21   92.031   94.523  139.929  294.252  504.326\n",
              "22   91.277  112.725  144.495  304.593  509.151\n",
              "23   87.291   95.292  141.945  305.739  495.626\n",
              "24   90.736  109.871  144.640  306.889  506.037\n",
              "25   88.921  105.064  150.717  310.488  506.067\n",
              "26   89.052  100.234  144.309  287.213  501.222\n",
              "27   93.561  111.856  154.579  311.706  516.691\n",
              "28   93.277  101.911  158.661  293.858  503.584\n",
              "29   87.861   95.306  142.033  303.097  495.869\n",
              "30   75.929   65.475  133.170  277.813  490.685\n",
              "31   83.788   95.600  136.007  299.238  502.149\n",
              "32   77.523   81.554  149.598  301.804  496.585\n",
              "33   88.616  102.333  137.795  300.335  501.062\n",
              "34   98.890  112.363  160.728  300.904  511.197\n",
              "35   87.141   94.740  124.189  297.186  488.293\n",
              "36   86.743   91.960  153.551  298.659  492.101\n",
              "37   91.201  101.851  141.163  284.113  492.932\n",
              "38   92.842  105.496  133.725  299.827  490.169\n",
              "39   93.560  109.263  152.489  311.103  503.316\n",
              "40   93.908  115.429  149.706  304.232  512.612\n",
              "41   98.230  111.154  162.001  305.740  505.033\n",
              "42   96.944  103.924  147.093  299.432  492.012\n",
              "43   88.636  106.956  148.072  310.189  494.151\n",
              "44   93.843   98.554  148.500  281.821  496.394\n",
              "45   94.402  115.382  153.243  304.291  504.800\n",
              "46   90.116   91.077  160.513  303.638  503.275\n",
              "47   95.823  110.841  154.346  291.621  501.994\n",
              "48   87.599   80.070  148.234  285.982  484.922\n",
              "49   94.475   96.920  157.017  296.911  495.582"
            ],
            "text/html": [
              "\n",
              "  <div id=\"df-4a0dda1e-a58b-4416-b7e3-fac761638a49\">\n",
              "    <div class=\"colab-df-container\">\n",
              "      <div>\n",
              "<style scoped>\n",
              "    .dataframe tbody tr th:only-of-type {\n",
              "        vertical-align: middle;\n",
              "    }\n",
              "\n",
              "    .dataframe tbody tr th {\n",
              "        vertical-align: top;\n",
              "    }\n",
              "\n",
              "    .dataframe thead th {\n",
              "        text-align: right;\n",
              "    }\n",
              "</style>\n",
              "<table border=\"1\" class=\"dataframe\">\n",
              "  <thead>\n",
              "    <tr style=\"text-align: right;\">\n",
              "      <th></th>\n",
              "      <th>X1</th>\n",
              "      <th>X2</th>\n",
              "      <th>X3</th>\n",
              "      <th>X4</th>\n",
              "      <th>X5</th>\n",
              "    </tr>\n",
              "  </thead>\n",
              "  <tbody>\n",
              "    <tr>\n",
              "      <th>0</th>\n",
              "      <td>91.165</td>\n",
              "      <td>106.549</td>\n",
              "      <td>146.410</td>\n",
              "      <td>313.598</td>\n",
              "      <td>509.574</td>\n",
              "    </tr>\n",
              "    <tr>\n",
              "      <th>1</th>\n",
              "      <td>94.264</td>\n",
              "      <td>120.121</td>\n",
              "      <td>155.148</td>\n",
              "      <td>321.554</td>\n",
              "      <td>500.530</td>\n",
              "    </tr>\n",
              "    <tr>\n",
              "      <th>2</th>\n",
              "      <td>90.704</td>\n",
              "      <td>102.270</td>\n",
              "      <td>160.374</td>\n",
              "      <td>307.334</td>\n",
              "      <td>502.790</td>\n",
              "    </tr>\n",
              "    <tr>\n",
              "      <th>3</th>\n",
              "      <td>88.221</td>\n",
              "      <td>97.923</td>\n",
              "      <td>162.187</td>\n",
              "      <td>304.159</td>\n",
              "      <td>516.541</td>\n",
              "    </tr>\n",
              "    <tr>\n",
              "      <th>4</th>\n",
              "      <td>97.493</td>\n",
              "      <td>110.621</td>\n",
              "      <td>132.752</td>\n",
              "      <td>287.310</td>\n",
              "      <td>511.783</td>\n",
              "    </tr>\n",
              "    <tr>\n",
              "      <th>5</th>\n",
              "      <td>100.526</td>\n",
              "      <td>106.908</td>\n",
              "      <td>166.806</td>\n",
              "      <td>312.559</td>\n",
              "      <td>497.740</td>\n",
              "    </tr>\n",
              "    <tr>\n",
              "      <th>6</th>\n",
              "      <td>101.938</td>\n",
              "      <td>119.148</td>\n",
              "      <td>166.650</td>\n",
              "      <td>302.406</td>\n",
              "      <td>517.939</td>\n",
              "    </tr>\n",
              "    <tr>\n",
              "      <th>7</th>\n",
              "      <td>90.320</td>\n",
              "      <td>88.899</td>\n",
              "      <td>157.938</td>\n",
              "      <td>296.041</td>\n",
              "      <td>489.497</td>\n",
              "    </tr>\n",
              "    <tr>\n",
              "      <th>8</th>\n",
              "      <td>91.198</td>\n",
              "      <td>106.482</td>\n",
              "      <td>146.842</td>\n",
              "      <td>290.708</td>\n",
              "      <td>507.501</td>\n",
              "    </tr>\n",
              "    <tr>\n",
              "      <th>9</th>\n",
              "      <td>90.265</td>\n",
              "      <td>94.632</td>\n",
              "      <td>160.773</td>\n",
              "      <td>297.262</td>\n",
              "      <td>497.114</td>\n",
              "    </tr>\n",
              "    <tr>\n",
              "      <th>10</th>\n",
              "      <td>88.971</td>\n",
              "      <td>98.043</td>\n",
              "      <td>147.283</td>\n",
              "      <td>314.401</td>\n",
              "      <td>490.577</td>\n",
              "    </tr>\n",
              "    <tr>\n",
              "      <th>11</th>\n",
              "      <td>95.846</td>\n",
              "      <td>107.462</td>\n",
              "      <td>150.816</td>\n",
              "      <td>299.442</td>\n",
              "      <td>504.984</td>\n",
              "    </tr>\n",
              "    <tr>\n",
              "      <th>12</th>\n",
              "      <td>82.807</td>\n",
              "      <td>97.962</td>\n",
              "      <td>144.698</td>\n",
              "      <td>294.896</td>\n",
              "      <td>507.676</td>\n",
              "    </tr>\n",
              "    <tr>\n",
              "      <th>13</th>\n",
              "      <td>85.453</td>\n",
              "      <td>91.489</td>\n",
              "      <td>128.124</td>\n",
              "      <td>295.481</td>\n",
              "      <td>484.162</td>\n",
              "    </tr>\n",
              "    <tr>\n",
              "      <th>14</th>\n",
              "      <td>87.837</td>\n",
              "      <td>96.181</td>\n",
              "      <td>129.412</td>\n",
              "      <td>295.194</td>\n",
              "      <td>493.443</td>\n",
              "    </tr>\n",
              "    <tr>\n",
              "      <th>15</th>\n",
              "      <td>88.713</td>\n",
              "      <td>102.343</td>\n",
              "      <td>149.718</td>\n",
              "      <td>303.305</td>\n",
              "      <td>507.263</td>\n",
              "    </tr>\n",
              "    <tr>\n",
              "      <th>16</th>\n",
              "      <td>90.031</td>\n",
              "      <td>99.401</td>\n",
              "      <td>150.917</td>\n",
              "      <td>303.203</td>\n",
              "      <td>503.830</td>\n",
              "    </tr>\n",
              "    <tr>\n",
              "      <th>17</th>\n",
              "      <td>91.493</td>\n",
              "      <td>103.983</td>\n",
              "      <td>162.394</td>\n",
              "      <td>297.580</td>\n",
              "      <td>514.231</td>\n",
              "    </tr>\n",
              "    <tr>\n",
              "      <th>18</th>\n",
              "      <td>92.502</td>\n",
              "      <td>100.300</td>\n",
              "      <td>155.096</td>\n",
              "      <td>295.435</td>\n",
              "      <td>498.803</td>\n",
              "    </tr>\n",
              "    <tr>\n",
              "      <th>19</th>\n",
              "      <td>95.594</td>\n",
              "      <td>105.693</td>\n",
              "      <td>157.010</td>\n",
              "      <td>304.972</td>\n",
              "      <td>496.025</td>\n",
              "    </tr>\n",
              "    <tr>\n",
              "      <th>20</th>\n",
              "      <td>101.343</td>\n",
              "      <td>122.262</td>\n",
              "      <td>156.679</td>\n",
              "      <td>313.046</td>\n",
              "      <td>510.512</td>\n",
              "    </tr>\n",
              "    <tr>\n",
              "      <th>21</th>\n",
              "      <td>92.031</td>\n",
              "      <td>94.523</td>\n",
              "      <td>139.929</td>\n",
              "      <td>294.252</td>\n",
              "      <td>504.326</td>\n",
              "    </tr>\n",
              "    <tr>\n",
              "      <th>22</th>\n",
              "      <td>91.277</td>\n",
              "      <td>112.725</td>\n",
              "      <td>144.495</td>\n",
              "      <td>304.593</td>\n",
              "      <td>509.151</td>\n",
              "    </tr>\n",
              "    <tr>\n",
              "      <th>23</th>\n",
              "      <td>87.291</td>\n",
              "      <td>95.292</td>\n",
              "      <td>141.945</td>\n",
              "      <td>305.739</td>\n",
              "      <td>495.626</td>\n",
              "    </tr>\n",
              "    <tr>\n",
              "      <th>24</th>\n",
              "      <td>90.736</td>\n",
              "      <td>109.871</td>\n",
              "      <td>144.640</td>\n",
              "      <td>306.889</td>\n",
              "      <td>506.037</td>\n",
              "    </tr>\n",
              "    <tr>\n",
              "      <th>25</th>\n",
              "      <td>88.921</td>\n",
              "      <td>105.064</td>\n",
              "      <td>150.717</td>\n",
              "      <td>310.488</td>\n",
              "      <td>506.067</td>\n",
              "    </tr>\n",
              "    <tr>\n",
              "      <th>26</th>\n",
              "      <td>89.052</td>\n",
              "      <td>100.234</td>\n",
              "      <td>144.309</td>\n",
              "      <td>287.213</td>\n",
              "      <td>501.222</td>\n",
              "    </tr>\n",
              "    <tr>\n",
              "      <th>27</th>\n",
              "      <td>93.561</td>\n",
              "      <td>111.856</td>\n",
              "      <td>154.579</td>\n",
              "      <td>311.706</td>\n",
              "      <td>516.691</td>\n",
              "    </tr>\n",
              "    <tr>\n",
              "      <th>28</th>\n",
              "      <td>93.277</td>\n",
              "      <td>101.911</td>\n",
              "      <td>158.661</td>\n",
              "      <td>293.858</td>\n",
              "      <td>503.584</td>\n",
              "    </tr>\n",
              "    <tr>\n",
              "      <th>29</th>\n",
              "      <td>87.861</td>\n",
              "      <td>95.306</td>\n",
              "      <td>142.033</td>\n",
              "      <td>303.097</td>\n",
              "      <td>495.869</td>\n",
              "    </tr>\n",
              "    <tr>\n",
              "      <th>30</th>\n",
              "      <td>75.929</td>\n",
              "      <td>65.475</td>\n",
              "      <td>133.170</td>\n",
              "      <td>277.813</td>\n",
              "      <td>490.685</td>\n",
              "    </tr>\n",
              "    <tr>\n",
              "      <th>31</th>\n",
              "      <td>83.788</td>\n",
              "      <td>95.600</td>\n",
              "      <td>136.007</td>\n",
              "      <td>299.238</td>\n",
              "      <td>502.149</td>\n",
              "    </tr>\n",
              "    <tr>\n",
              "      <th>32</th>\n",
              "      <td>77.523</td>\n",
              "      <td>81.554</td>\n",
              "      <td>149.598</td>\n",
              "      <td>301.804</td>\n",
              "      <td>496.585</td>\n",
              "    </tr>\n",
              "    <tr>\n",
              "      <th>33</th>\n",
              "      <td>88.616</td>\n",
              "      <td>102.333</td>\n",
              "      <td>137.795</td>\n",
              "      <td>300.335</td>\n",
              "      <td>501.062</td>\n",
              "    </tr>\n",
              "    <tr>\n",
              "      <th>34</th>\n",
              "      <td>98.890</td>\n",
              "      <td>112.363</td>\n",
              "      <td>160.728</td>\n",
              "      <td>300.904</td>\n",
              "      <td>511.197</td>\n",
              "    </tr>\n",
              "    <tr>\n",
              "      <th>35</th>\n",
              "      <td>87.141</td>\n",
              "      <td>94.740</td>\n",
              "      <td>124.189</td>\n",
              "      <td>297.186</td>\n",
              "      <td>488.293</td>\n",
              "    </tr>\n",
              "    <tr>\n",
              "      <th>36</th>\n",
              "      <td>86.743</td>\n",
              "      <td>91.960</td>\n",
              "      <td>153.551</td>\n",
              "      <td>298.659</td>\n",
              "      <td>492.101</td>\n",
              "    </tr>\n",
              "    <tr>\n",
              "      <th>37</th>\n",
              "      <td>91.201</td>\n",
              "      <td>101.851</td>\n",
              "      <td>141.163</td>\n",
              "      <td>284.113</td>\n",
              "      <td>492.932</td>\n",
              "    </tr>\n",
              "    <tr>\n",
              "      <th>38</th>\n",
              "      <td>92.842</td>\n",
              "      <td>105.496</td>\n",
              "      <td>133.725</td>\n",
              "      <td>299.827</td>\n",
              "      <td>490.169</td>\n",
              "    </tr>\n",
              "    <tr>\n",
              "      <th>39</th>\n",
              "      <td>93.560</td>\n",
              "      <td>109.263</td>\n",
              "      <td>152.489</td>\n",
              "      <td>311.103</td>\n",
              "      <td>503.316</td>\n",
              "    </tr>\n",
              "    <tr>\n",
              "      <th>40</th>\n",
              "      <td>93.908</td>\n",
              "      <td>115.429</td>\n",
              "      <td>149.706</td>\n",
              "      <td>304.232</td>\n",
              "      <td>512.612</td>\n",
              "    </tr>\n",
              "    <tr>\n",
              "      <th>41</th>\n",
              "      <td>98.230</td>\n",
              "      <td>111.154</td>\n",
              "      <td>162.001</td>\n",
              "      <td>305.740</td>\n",
              "      <td>505.033</td>\n",
              "    </tr>\n",
              "    <tr>\n",
              "      <th>42</th>\n",
              "      <td>96.944</td>\n",
              "      <td>103.924</td>\n",
              "      <td>147.093</td>\n",
              "      <td>299.432</td>\n",
              "      <td>492.012</td>\n",
              "    </tr>\n",
              "    <tr>\n",
              "      <th>43</th>\n",
              "      <td>88.636</td>\n",
              "      <td>106.956</td>\n",
              "      <td>148.072</td>\n",
              "      <td>310.189</td>\n",
              "      <td>494.151</td>\n",
              "    </tr>\n",
              "    <tr>\n",
              "      <th>44</th>\n",
              "      <td>93.843</td>\n",
              "      <td>98.554</td>\n",
              "      <td>148.500</td>\n",
              "      <td>281.821</td>\n",
              "      <td>496.394</td>\n",
              "    </tr>\n",
              "    <tr>\n",
              "      <th>45</th>\n",
              "      <td>94.402</td>\n",
              "      <td>115.382</td>\n",
              "      <td>153.243</td>\n",
              "      <td>304.291</td>\n",
              "      <td>504.800</td>\n",
              "    </tr>\n",
              "    <tr>\n",
              "      <th>46</th>\n",
              "      <td>90.116</td>\n",
              "      <td>91.077</td>\n",
              "      <td>160.513</td>\n",
              "      <td>303.638</td>\n",
              "      <td>503.275</td>\n",
              "    </tr>\n",
              "    <tr>\n",
              "      <th>47</th>\n",
              "      <td>95.823</td>\n",
              "      <td>110.841</td>\n",
              "      <td>154.346</td>\n",
              "      <td>291.621</td>\n",
              "      <td>501.994</td>\n",
              "    </tr>\n",
              "    <tr>\n",
              "      <th>48</th>\n",
              "      <td>87.599</td>\n",
              "      <td>80.070</td>\n",
              "      <td>148.234</td>\n",
              "      <td>285.982</td>\n",
              "      <td>484.922</td>\n",
              "    </tr>\n",
              "    <tr>\n",
              "      <th>49</th>\n",
              "      <td>94.475</td>\n",
              "      <td>96.920</td>\n",
              "      <td>157.017</td>\n",
              "      <td>296.911</td>\n",
              "      <td>495.582</td>\n",
              "    </tr>\n",
              "  </tbody>\n",
              "</table>\n",
              "</div>\n",
              "      <button class=\"colab-df-convert\" onclick=\"convertToInteractive('df-4a0dda1e-a58b-4416-b7e3-fac761638a49')\"\n",
              "              title=\"Convert this dataframe to an interactive table.\"\n",
              "              style=\"display:none;\">\n",
              "        \n",
              "  <svg xmlns=\"http://www.w3.org/2000/svg\" height=\"24px\"viewBox=\"0 0 24 24\"\n",
              "       width=\"24px\">\n",
              "    <path d=\"M0 0h24v24H0V0z\" fill=\"none\"/>\n",
              "    <path d=\"M18.56 5.44l.94 2.06.94-2.06 2.06-.94-2.06-.94-.94-2.06-.94 2.06-2.06.94zm-11 1L8.5 8.5l.94-2.06 2.06-.94-2.06-.94L8.5 2.5l-.94 2.06-2.06.94zm10 10l.94 2.06.94-2.06 2.06-.94-2.06-.94-.94-2.06-.94 2.06-2.06.94z\"/><path d=\"M17.41 7.96l-1.37-1.37c-.4-.4-.92-.59-1.43-.59-.52 0-1.04.2-1.43.59L10.3 9.45l-7.72 7.72c-.78.78-.78 2.05 0 2.83L4 21.41c.39.39.9.59 1.41.59.51 0 1.02-.2 1.41-.59l7.78-7.78 2.81-2.81c.8-.78.8-2.07 0-2.86zM5.41 20L4 18.59l7.72-7.72 1.47 1.35L5.41 20z\"/>\n",
              "  </svg>\n",
              "      </button>\n",
              "      \n",
              "  <style>\n",
              "    .colab-df-container {\n",
              "      display:flex;\n",
              "      flex-wrap:wrap;\n",
              "      gap: 12px;\n",
              "    }\n",
              "\n",
              "    .colab-df-convert {\n",
              "      background-color: #E8F0FE;\n",
              "      border: none;\n",
              "      border-radius: 50%;\n",
              "      cursor: pointer;\n",
              "      display: none;\n",
              "      fill: #1967D2;\n",
              "      height: 32px;\n",
              "      padding: 0 0 0 0;\n",
              "      width: 32px;\n",
              "    }\n",
              "\n",
              "    .colab-df-convert:hover {\n",
              "      background-color: #E2EBFA;\n",
              "      box-shadow: 0px 1px 2px rgba(60, 64, 67, 0.3), 0px 1px 3px 1px rgba(60, 64, 67, 0.15);\n",
              "      fill: #174EA6;\n",
              "    }\n",
              "\n",
              "    [theme=dark] .colab-df-convert {\n",
              "      background-color: #3B4455;\n",
              "      fill: #D2E3FC;\n",
              "    }\n",
              "\n",
              "    [theme=dark] .colab-df-convert:hover {\n",
              "      background-color: #434B5C;\n",
              "      box-shadow: 0px 1px 3px 1px rgba(0, 0, 0, 0.15);\n",
              "      filter: drop-shadow(0px 1px 2px rgba(0, 0, 0, 0.3));\n",
              "      fill: #FFFFFF;\n",
              "    }\n",
              "  </style>\n",
              "\n",
              "      <script>\n",
              "        const buttonEl =\n",
              "          document.querySelector('#df-4a0dda1e-a58b-4416-b7e3-fac761638a49 button.colab-df-convert');\n",
              "        buttonEl.style.display =\n",
              "          google.colab.kernel.accessAllowed ? 'block' : 'none';\n",
              "\n",
              "        async function convertToInteractive(key) {\n",
              "          const element = document.querySelector('#df-4a0dda1e-a58b-4416-b7e3-fac761638a49');\n",
              "          const dataTable =\n",
              "            await google.colab.kernel.invokeFunction('convertToInteractive',\n",
              "                                                     [key], {});\n",
              "          if (!dataTable) return;\n",
              "\n",
              "          const docLinkHtml = 'Like what you see? Visit the ' +\n",
              "            '<a target=\"_blank\" href=https://colab.research.google.com/notebooks/data_table.ipynb>data table notebook</a>'\n",
              "            + ' to learn more about interactive tables.';\n",
              "          element.innerHTML = '';\n",
              "          dataTable['output_type'] = 'display_data';\n",
              "          await google.colab.output.renderOutput(dataTable, element);\n",
              "          const docLink = document.createElement('div');\n",
              "          docLink.innerHTML = docLinkHtml;\n",
              "          element.appendChild(docLink);\n",
              "        }\n",
              "      </script>\n",
              "    </div>\n",
              "  </div>\n",
              "  "
            ]
          },
          "metadata": {},
          "execution_count": 52
        }
      ]
    },
    {
      "cell_type": "markdown",
      "source": [
        "la matriz S seria por tanto:"
      ],
      "metadata": {
        "id": "LxuICYYdePeJ"
      }
    },
    {
      "cell_type": "code",
      "source": [
        "df.cov()"
      ],
      "metadata": {
        "colab": {
          "base_uri": "https://localhost:8080/",
          "height": 206
        },
        "id": "VM21cFYAb7j7",
        "outputId": "fed48fda-d0c2-4539-a7a2-5d4dc507a15c"
      },
      "execution_count": 53,
      "outputs": [
        {
          "output_type": "execute_result",
          "data": {
            "text/plain": [
              "           X1          X2          X3         X4         X5\n",
              "X1  27.088474   43.029097   26.502514  13.003355  17.403444\n",
              "X2  43.029097  109.938370   35.671089  49.543822  53.919321\n",
              "X3  26.502514   35.671089  103.328174  33.266840  36.491867\n",
              "X4  13.003355   49.543822   33.266840  80.259596  22.005543\n",
              "X5  17.403444   53.919321   36.491867  22.005543  70.952417"
            ],
            "text/html": [
              "\n",
              "  <div id=\"df-8fe53dd7-34cc-493e-86d9-b72bc4108790\">\n",
              "    <div class=\"colab-df-container\">\n",
              "      <div>\n",
              "<style scoped>\n",
              "    .dataframe tbody tr th:only-of-type {\n",
              "        vertical-align: middle;\n",
              "    }\n",
              "\n",
              "    .dataframe tbody tr th {\n",
              "        vertical-align: top;\n",
              "    }\n",
              "\n",
              "    .dataframe thead th {\n",
              "        text-align: right;\n",
              "    }\n",
              "</style>\n",
              "<table border=\"1\" class=\"dataframe\">\n",
              "  <thead>\n",
              "    <tr style=\"text-align: right;\">\n",
              "      <th></th>\n",
              "      <th>X1</th>\n",
              "      <th>X2</th>\n",
              "      <th>X3</th>\n",
              "      <th>X4</th>\n",
              "      <th>X5</th>\n",
              "    </tr>\n",
              "  </thead>\n",
              "  <tbody>\n",
              "    <tr>\n",
              "      <th>X1</th>\n",
              "      <td>27.088474</td>\n",
              "      <td>43.029097</td>\n",
              "      <td>26.502514</td>\n",
              "      <td>13.003355</td>\n",
              "      <td>17.403444</td>\n",
              "    </tr>\n",
              "    <tr>\n",
              "      <th>X2</th>\n",
              "      <td>43.029097</td>\n",
              "      <td>109.938370</td>\n",
              "      <td>35.671089</td>\n",
              "      <td>49.543822</td>\n",
              "      <td>53.919321</td>\n",
              "    </tr>\n",
              "    <tr>\n",
              "      <th>X3</th>\n",
              "      <td>26.502514</td>\n",
              "      <td>35.671089</td>\n",
              "      <td>103.328174</td>\n",
              "      <td>33.266840</td>\n",
              "      <td>36.491867</td>\n",
              "    </tr>\n",
              "    <tr>\n",
              "      <th>X4</th>\n",
              "      <td>13.003355</td>\n",
              "      <td>49.543822</td>\n",
              "      <td>33.266840</td>\n",
              "      <td>80.259596</td>\n",
              "      <td>22.005543</td>\n",
              "    </tr>\n",
              "    <tr>\n",
              "      <th>X5</th>\n",
              "      <td>17.403444</td>\n",
              "      <td>53.919321</td>\n",
              "      <td>36.491867</td>\n",
              "      <td>22.005543</td>\n",
              "      <td>70.952417</td>\n",
              "    </tr>\n",
              "  </tbody>\n",
              "</table>\n",
              "</div>\n",
              "      <button class=\"colab-df-convert\" onclick=\"convertToInteractive('df-8fe53dd7-34cc-493e-86d9-b72bc4108790')\"\n",
              "              title=\"Convert this dataframe to an interactive table.\"\n",
              "              style=\"display:none;\">\n",
              "        \n",
              "  <svg xmlns=\"http://www.w3.org/2000/svg\" height=\"24px\"viewBox=\"0 0 24 24\"\n",
              "       width=\"24px\">\n",
              "    <path d=\"M0 0h24v24H0V0z\" fill=\"none\"/>\n",
              "    <path d=\"M18.56 5.44l.94 2.06.94-2.06 2.06-.94-2.06-.94-.94-2.06-.94 2.06-2.06.94zm-11 1L8.5 8.5l.94-2.06 2.06-.94-2.06-.94L8.5 2.5l-.94 2.06-2.06.94zm10 10l.94 2.06.94-2.06 2.06-.94-2.06-.94-.94-2.06-.94 2.06-2.06.94z\"/><path d=\"M17.41 7.96l-1.37-1.37c-.4-.4-.92-.59-1.43-.59-.52 0-1.04.2-1.43.59L10.3 9.45l-7.72 7.72c-.78.78-.78 2.05 0 2.83L4 21.41c.39.39.9.59 1.41.59.51 0 1.02-.2 1.41-.59l7.78-7.78 2.81-2.81c.8-.78.8-2.07 0-2.86zM5.41 20L4 18.59l7.72-7.72 1.47 1.35L5.41 20z\"/>\n",
              "  </svg>\n",
              "      </button>\n",
              "      \n",
              "  <style>\n",
              "    .colab-df-container {\n",
              "      display:flex;\n",
              "      flex-wrap:wrap;\n",
              "      gap: 12px;\n",
              "    }\n",
              "\n",
              "    .colab-df-convert {\n",
              "      background-color: #E8F0FE;\n",
              "      border: none;\n",
              "      border-radius: 50%;\n",
              "      cursor: pointer;\n",
              "      display: none;\n",
              "      fill: #1967D2;\n",
              "      height: 32px;\n",
              "      padding: 0 0 0 0;\n",
              "      width: 32px;\n",
              "    }\n",
              "\n",
              "    .colab-df-convert:hover {\n",
              "      background-color: #E2EBFA;\n",
              "      box-shadow: 0px 1px 2px rgba(60, 64, 67, 0.3), 0px 1px 3px 1px rgba(60, 64, 67, 0.15);\n",
              "      fill: #174EA6;\n",
              "    }\n",
              "\n",
              "    [theme=dark] .colab-df-convert {\n",
              "      background-color: #3B4455;\n",
              "      fill: #D2E3FC;\n",
              "    }\n",
              "\n",
              "    [theme=dark] .colab-df-convert:hover {\n",
              "      background-color: #434B5C;\n",
              "      box-shadow: 0px 1px 3px 1px rgba(0, 0, 0, 0.15);\n",
              "      filter: drop-shadow(0px 1px 2px rgba(0, 0, 0, 0.3));\n",
              "      fill: #FFFFFF;\n",
              "    }\n",
              "  </style>\n",
              "\n",
              "      <script>\n",
              "        const buttonEl =\n",
              "          document.querySelector('#df-8fe53dd7-34cc-493e-86d9-b72bc4108790 button.colab-df-convert');\n",
              "        buttonEl.style.display =\n",
              "          google.colab.kernel.accessAllowed ? 'block' : 'none';\n",
              "\n",
              "        async function convertToInteractive(key) {\n",
              "          const element = document.querySelector('#df-8fe53dd7-34cc-493e-86d9-b72bc4108790');\n",
              "          const dataTable =\n",
              "            await google.colab.kernel.invokeFunction('convertToInteractive',\n",
              "                                                     [key], {});\n",
              "          if (!dataTable) return;\n",
              "\n",
              "          const docLinkHtml = 'Like what you see? Visit the ' +\n",
              "            '<a target=\"_blank\" href=https://colab.research.google.com/notebooks/data_table.ipynb>data table notebook</a>'\n",
              "            + ' to learn more about interactive tables.';\n",
              "          element.innerHTML = '';\n",
              "          dataTable['output_type'] = 'display_data';\n",
              "          await google.colab.output.renderOutput(dataTable, element);\n",
              "          const docLink = document.createElement('div');\n",
              "          docLink.innerHTML = docLinkHtml;\n",
              "          element.appendChild(docLink);\n",
              "        }\n",
              "      </script>\n",
              "    </div>\n",
              "  </div>\n",
              "  "
            ]
          },
          "metadata": {},
          "execution_count": 53
        }
      ]
    },
    {
      "cell_type": "code",
      "source": [],
      "metadata": {
        "id": "eVHv0T-udypR"
      },
      "execution_count": null,
      "outputs": []
    }
  ]
}