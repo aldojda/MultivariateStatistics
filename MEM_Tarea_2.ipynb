{
  "nbformat": 4,
  "nbformat_minor": 0,
  "metadata": {
    "colab": {
      "provenance": [],
      "authorship_tag": "ABX9TyNm7Us8Xm9rHc3SDrS50ms+",
      "include_colab_link": true
    },
    "kernelspec": {
      "name": "python3",
      "display_name": "Python 3"
    },
    "language_info": {
      "name": "python"
    }
  },
  "cells": [
    {
      "cell_type": "markdown",
      "metadata": {
        "id": "view-in-github",
        "colab_type": "text"
      },
      "source": [
        "<a href=\"https://colab.research.google.com/github/aldojda/MultivariateStatistics/blob/main/MEM_Tarea_2.ipynb\" target=\"_parent\"><img src=\"https://colab.research.google.com/assets/colab-badge.svg\" alt=\"Open In Colab\"/></a>"
      ]
    },
    {
      "cell_type": "code",
      "execution_count": null,
      "metadata": {
        "id": "2dTC0e2sE-Lx"
      },
      "outputs": [],
      "source": []
    },
    {
      "cell_type": "markdown",
      "source": [
        "# Maestria en Ciencia de Datos\n",
        "\n",
        "# Tarea 2\n",
        "\n",
        "## Aldo Daniel Ojeda Rodriguez\n",
        "\n",
        "\n",
        "**Instrucciones:** Contesta cada uno de los ejercicios en un archivo en Word o en hojas blancas. \n",
        "Puedes usar R, Excel o algún otro software, favor de anexar el código o el archivo de Excel. \n",
        "Al finalizar sube tus evidencias en el lugar correspondiente en Teams.\n",
        "\n",
        "**1.-** Considera las siguientes matrices de covarianzas de un vector aleatorio X. Obtener la \n",
        "matriz de coeficiente de correlaciones para cada caso. Después, interpreta los valores \n",
        "obtenidos.\n",
        "\n",
        "$$\\begin{equation}\n",
        "A = \n",
        "\\left[\n",
        "\\begin{matrix}\n",
        "4 & 3 & -2\\\\\n",
        "3 & 6 & 2\\\\\n",
        "-2 & 2 & 5\n",
        "\\end{matrix}\n",
        "\\right], B =\n",
        "\\left[\n",
        "\\begin{matrix}\n",
        "10 & -3 & -1 & 5\\\\\n",
        "-3 & 8 & 3 & 0\\\\\n",
        "-1 & 3 & 15 & 1\\\\\n",
        "5 & 0 & 1 & 4\\\\\n",
        "\\end{matrix}\n",
        "\\right],\n",
        "\\end{equation}$$\n",
        "\n",
        "la matriz de correlacion se puede definir como:\n",
        "\n",
        "$$\n",
        "\\begin{equation}\n",
        "\\rho = (V^{1/2})^{-1}\\Sigma (V^{1/2})^{-1}\n",
        "\\end{equation}\n",
        "$$\n"
      ],
      "metadata": {
        "id": "Q4S7uJe2E_EW"
      }
    },
    {
      "cell_type": "code",
      "source": [
        "import numpy as np\n",
        "def ejercicio_1A():\n",
        "    #Resultado 1\n",
        "    #declaramos A\n",
        "    A= np.matrix([[4,3,-2],[3,6,2],[-2,2,5]])\n",
        "    #obtenemos la matriz v1/2\n",
        "    V_1_2 = np.sqrt(np.eye(3)*np.diag(A))\n",
        "    V_1_2inv = np.linalg.inv(V_1_2)\n",
        "    #Multiplicamos matrices\n",
        "    print('Ejercicio 1a')\n",
        "    print('Resultado :')\n",
        "    return np.dot(np.dot(V_1_2inv,A), V_1_2inv)  \n",
        "ejercicio_1A()"
      ],
      "metadata": {
        "colab": {
          "base_uri": "https://localhost:8080/"
        },
        "id": "468Li5DTGGtJ",
        "outputId": "4bc7309d-a15c-4b06-b75a-be85f981b7df"
      },
      "execution_count": 12,
      "outputs": [
        {
          "output_type": "stream",
          "name": "stdout",
          "text": [
            "Ejercicio 1a\n",
            "Resultado :\n"
          ]
        },
        {
          "output_type": "execute_result",
          "data": {
            "text/plain": [
              "matrix([[ 1.        ,  0.61237244, -0.4472136 ],\n",
              "        [ 0.61237244,  1.        ,  0.36514837],\n",
              "        [-0.4472136 ,  0.36514837,  1.        ]])"
            ]
          },
          "metadata": {},
          "execution_count": 12
        }
      ]
    },
    {
      "cell_type": "markdown",
      "source": [
        "deacuredo al resultado anterior podemos ver que la correlación entre las variables **X1, X2** es de **0.61** lo cual indica una relación positiva moderada entre ambas variables, por otro lado podemos ver que la correlación entre las variables **X1, X3** es de **-0.44** lo cual indica una correlación negativa moderada y por otro lado tenemos la relación de las variables **X2, X3** siendo su correlación de **0.36** positiva moderada."
      ],
      "metadata": {
        "id": "NW0ujOhPGXn8"
      }
    },
    {
      "cell_type": "code",
      "source": [
        "def ejercicio_1B():\n",
        "    #Resultado 1\n",
        "    #declaramos A\n",
        "    B = np.matrix([[10, -3, -1, 5],[-3, 8, 3, 0],[-1, 3, 15, 1],[5, 0, 1, 4]])\n",
        "    #obtenemos la matriz v1/2\n",
        "    V_1_2 = np.sqrt(np.eye(4)*np.diag(B))\n",
        "    V_1_2inv = np.linalg.inv(V_1_2)\n",
        "    #Multiplicamos matrices\n",
        "    #-------------------------\n",
        "    print('Ejercicio 1b')\n",
        "    print('Resultado :')\n",
        "    #-------------------------\n",
        "    return V_1_2inv * B * V_1_2inv  \n",
        "ejercicio_1B()"
      ],
      "metadata": {
        "colab": {
          "base_uri": "https://localhost:8080/"
        },
        "id": "GFV2U4r_GV1v",
        "outputId": "e1f87f8e-003a-4a3f-e0e6-2d6e80c919f5"
      },
      "execution_count": 13,
      "outputs": [
        {
          "output_type": "stream",
          "name": "stdout",
          "text": [
            "Ejercicio 1b\n",
            "Resultado :\n"
          ]
        },
        {
          "output_type": "execute_result",
          "data": {
            "text/plain": [
              "matrix([[ 1.        , -0.3354102 , -0.08164966,  0.79056942],\n",
              "        [-0.3354102 ,  1.        ,  0.27386128,  0.        ],\n",
              "        [-0.08164966,  0.27386128,  1.        ,  0.12909944],\n",
              "        [ 0.79056942,  0.        ,  0.12909944,  1.        ]])"
            ]
          },
          "metadata": {},
          "execution_count": 13
        }
      ]
    },
    {
      "cell_type": "markdown",
      "source": [
        "en la matriz anterior podemos observar lo siguiente: \n",
        "\n",
        "    * El grupo de valor -0.33 muestra una relación negativa moderada (débil)\n",
        "    * Los valores de la matriz cercanos a cero -0.08 y  0 no muestran relación\n",
        "    * Los grupos de **0.12 y 0.27** muestran una relación positiva moderada\n",
        "    * El grupo de correlación de 0.79 muestra una relación positiva fuerte "
      ],
      "metadata": {
        "id": "sHOvZSZGGdUO"
      }
    },
    {
      "cell_type": "markdown",
      "source": [
        "**2.-** Para las matrices del problema 1, obtener  $V^{1/2}$ , $V^{-1/2}$  y verificar que  $ \\rho = V^{-1/2} \\Sigma V^{-1/2}$ y $ \\Sigma = V^{1/2}\\rho V^{1/2} $\n",
        "\n",
        "Del problema 1A podemos obtener los valores $V^{1/2}$ , $V^{-1/2}$ siendo los siguientes:\n",
        "\n",
        "\n",
        "$$\n",
        "\\begin{equation}\n",
        "V^{1/2} = \n",
        "\\left[\n",
        "\\begin{matrix}\n",
        "\\sqrt{2} & 0 & 0\\\\\n",
        "0 & \\sqrt{6} & 0\\\\\n",
        "0 & 0 & \\sqrt{5}\n",
        "\\end{matrix}\n",
        "\\right],  V^{-1/2} = \n",
        "\\left[\n",
        "\\begin{matrix}\n",
        "1 / \\sqrt{2} & 0 & 0\\\\\n",
        "0 & 1 /\\sqrt{6} & 0\\\\\n",
        "0 & 0 & 1 /\\sqrt{5}\n",
        "\\end{matrix}\n",
        "\\right]\n",
        "\\end{equation}$$\n",
        "\n",
        "Operando estas matrices con la matriz del problema 1A tenermos que los valores de $\\rho$ y $\\Sigma$ son los siguientes:\n"
      ],
      "metadata": {
        "id": "72jY640OGfbY"
      }
    },
    {
      "cell_type": "code",
      "source": [
        "v_sqrt_ = np.sqrt(np.matrix([[1/4,0,0], [0,1/6,0],  [0,0, 1/5]]))\n",
        "sigma = np.matrix([[4.0,3.0,-2.0],[3.0,6.0,2.0],[-2.0,2.0,5.0]])\n",
        "#multiplicamos las matrices\n",
        "rho = v_sqrt_ * sigma * v_sqrt_ \n",
        "rho"
      ],
      "metadata": {
        "colab": {
          "base_uri": "https://localhost:8080/"
        },
        "id": "Dx0SSzsSGdyY",
        "outputId": "a8cf8bce-3669-4109-9981-70619797bd2b"
      },
      "execution_count": 14,
      "outputs": [
        {
          "output_type": "execute_result",
          "data": {
            "text/plain": [
              "matrix([[ 1.        ,  0.61237244, -0.4472136 ],\n",
              "        [ 0.61237244,  1.        ,  0.36514837],\n",
              "        [-0.4472136 ,  0.36514837,  1.        ]])"
            ]
          },
          "metadata": {},
          "execution_count": 14
        }
      ]
    },
    {
      "cell_type": "code",
      "source": [
        "v_sqrt_ = np.sqrt(np.matrix([[4,0,0], [0,6,0],  [0,0, 5]]))\n",
        "#multiplicamos las matrices\n",
        "sigma = v_sqrt_* rho * v_sqrt_\n",
        "sigma"
      ],
      "metadata": {
        "colab": {
          "base_uri": "https://localhost:8080/"
        },
        "id": "GzTR8w99GlBt",
        "outputId": "b1071d2c-1c59-4bdf-c075-35d7cf5c1af2"
      },
      "execution_count": 15,
      "outputs": [
        {
          "output_type": "execute_result",
          "data": {
            "text/plain": [
              "matrix([[ 4.,  3., -2.],\n",
              "        [ 3.,  6.,  2.],\n",
              "        [-2.,  2.,  5.]])"
            ]
          },
          "metadata": {},
          "execution_count": 15
        }
      ]
    },
    {
      "cell_type": "markdown",
      "source": [
        "en los bloques de código anterior podemos observar que las ecuaciones si se cumplen como se espera.\n",
        "\n",
        "Del problema 1B podemos obtener los valores $V^{1/2}$ , $V^{-1/2}$ siendo los siguientes:\n",
        "\n",
        "\n",
        "$$\n",
        "\\begin{equation}\n",
        "V^{1/2} = \n",
        "\\left[\n",
        "\\begin{matrix}\n",
        "\\sqrt{10} & 0 & 0 & 0\\\\\n",
        "0 & \\sqrt{8} & 0 & 0\\\\\n",
        "0 & 0 & \\sqrt{15} & 0\\\\\n",
        "0 & 0 & 0 & \\sqrt{4}\n",
        "\\end{matrix}\n",
        "\\right],  V^{-1/2} = \n",
        "\\left[\n",
        "\\begin{matrix}\n",
        "1/\\sqrt{10} & 0 & 0 & 0\\\\\n",
        "0 & 1/\\sqrt{8} & 0  & 0\\\\\n",
        "0 & 0 & 1/\\sqrt{15} & 0\\\\\n",
        "0 & 0 & 0 & 1/\\sqrt{4}\n",
        "\\end{matrix}\n",
        "\\right]\n",
        "\\end{equation}$$\n",
        "\n",
        "Operando estas matrices con la matriz del problema 1A tenermos que los valores de $\\rho$ y $\\Sigma$ son los siguientes:"
      ],
      "metadata": {
        "id": "dXe3pRdIGqPm"
      }
    },
    {
      "cell_type": "code",
      "source": [
        "v_sqrt_ = np.sqrt(np.matrix([[1/10,0,0, 0], [0,1/8,0, 0],  [0,0, 1/15, 0], [0,0, 0, 1/4]]))\n",
        "sigma = np.matrix([[10, -3, -1, 5],[-3, 8, 3, 0],[-1, 3, 15, 1],[5, 0, 1, 4]])\n",
        "#multiplicamos las matrices\n",
        "rho = v_sqrt_ * sigma * v_sqrt_ \n",
        "rho"
      ],
      "metadata": {
        "colab": {
          "base_uri": "https://localhost:8080/"
        },
        "id": "c5JwfexLGmDB",
        "outputId": "af7f41a5-46c5-4cfa-c218-ca66faaf4a4e"
      },
      "execution_count": 16,
      "outputs": [
        {
          "output_type": "execute_result",
          "data": {
            "text/plain": [
              "matrix([[ 1.        , -0.3354102 , -0.08164966,  0.79056942],\n",
              "        [-0.3354102 ,  1.        ,  0.27386128,  0.        ],\n",
              "        [-0.08164966,  0.27386128,  1.        ,  0.12909944],\n",
              "        [ 0.79056942,  0.        ,  0.12909944,  1.        ]])"
            ]
          },
          "metadata": {},
          "execution_count": 16
        }
      ]
    },
    {
      "cell_type": "code",
      "source": [
        "v_sqrt_ = np.sqrt(np.matrix([[10,0,0, 0], [0,8,0, 0],  [0,0, 15, 0], [0,0, 0, 4]]))\n",
        "#multiplicamos las matrices\n",
        "sigma = v_sqrt_ * rho * v_sqrt_ \n",
        "sigma"
      ],
      "metadata": {
        "colab": {
          "base_uri": "https://localhost:8080/"
        },
        "id": "97ECHw6XG2bT",
        "outputId": "0dccc7df-f698-40a6-b431-8ffd83a93def"
      },
      "execution_count": 17,
      "outputs": [
        {
          "output_type": "execute_result",
          "data": {
            "text/plain": [
              "matrix([[10., -3., -1.,  5.],\n",
              "        [-3.,  8.,  3.,  0.],\n",
              "        [-1.,  3., 15.,  1.],\n",
              "        [ 5.,  0.,  1.,  4.]])"
            ]
          },
          "metadata": {},
          "execution_count": 17
        }
      ]
    },
    {
      "cell_type": "markdown",
      "source": [
        " como hemos observado al operar estos resultados podemos volver a generar los valores de $\\rho$ Y $\\Sigma$.\n",
        "\n",
        "**3.-** Considera que : \n",
        "\n",
        "$$\\begin{equation}\n",
        " \\Sigma  =\n",
        "\\left[\n",
        "\\begin{matrix}\n",
        "10 & -3 & -1 & 5\\\\\n",
        "-3 & 8 & 3 & 0\\\\\n",
        "-1 & 3 & 15 & 1\\\\\n",
        "5 & 0 & 1 & 4\\\\\n",
        "\\end{matrix}\n",
        "\\right],\n",
        "\\end{equation}$$\n",
        "\n",
        "Obtener: \n",
        "\n",
        "A)  $Cov ~ (2X_1, - 4X_2)$.\n",
        "\n",
        "\n",
        "$$Cov ~ (aX_1, bX_2) = ab\\sigma_{1,2}$$\n",
        " \n",
        "por lo tanto: \n",
        "\n",
        "$$Cov ~ (2X_1, - 4X_2) = 2 \\cdot -4 \\cdot \\sigma_{1,2}$$\n",
        "\n",
        "de la matriz $\\Sigma$ tenemos que  $\\sigma_{1,2} = -3$,  aplicandolo a la ecuación anterior tenemos que : \n",
        "\n",
        "$$Cov ~ (aX_1, bX_2) =  2 \\cdot -4 \\cdot -3 = 24 $$\n"
      ],
      "metadata": {
        "id": "zy_R3gfaG8MG"
      }
    },
    {
      "cell_type": "code",
      "source": [
        "#calculo de covarianza\n",
        "sigma = np.matrix([[10.0, -3.0, -1.0, 5.0], [-3.0, 8.0, 3.0, 0.0], [-1.0, 3.0, 15.0, 1], [5.0, 0, 1.0, 4.0]])\n",
        "c = np.matrix([[2, 0, 0, 0], [0, -4.0, 0.0, 0.0], [0.0, 0.0, 0.0, 0], [0.0, 0, 0.0, 0.0]])\n",
        "c* sigma* c.T"
      ],
      "metadata": {
        "colab": {
          "base_uri": "https://localhost:8080/"
        },
        "id": "bP5nEb2QG57U",
        "outputId": "88dad1c1-4314-4443-e61f-f115ed826c89"
      },
      "execution_count": 18,
      "outputs": [
        {
          "output_type": "execute_result",
          "data": {
            "text/plain": [
              "matrix([[ 40.,  24.,   0.,   0.],\n",
              "        [ 24., 128.,   0.,   0.],\n",
              "        [  0.,   0.,   0.,   0.],\n",
              "        [  0.,   0.,   0.,   0.]])"
            ]
          },
          "metadata": {},
          "execution_count": 18
        }
      ]
    },
    {
      "cell_type": "markdown",
      "source": [
        "B ) $Var ~ (3X_2-2X_3)$\n",
        "\n",
        "Deacuerdo a las propiedades de la varianza tenemos:\n",
        "\n",
        "$$\\begin{equation} Var ~ (aX_1+ bX_2)  = Var ~ (\\textbf{c'X}) = \\textbf{c'}\n",
        "\\Sigma \\textbf{c}\n",
        "\\end{equation}$$\n",
        "\n",
        "siendo\n",
        "\n",
        "$$\\begin{equation}\n",
        " c  =\n",
        "\\left[\n",
        "\\begin{matrix}\n",
        " 0\\\\\n",
        "3 \\\\\n",
        "-2\\\\\n",
        "0 \\\\\n",
        "\\end{matrix}\n",
        "\\right]\n",
        "\\end{equation}$$\n",
        "\n",
        "operando **c** y $\\Sigma$ tenemos\n",
        "\n",
        "\n",
        "$$\\begin{equation} \n",
        "Var ~ (3X_2-2X_3) = \n",
        "\\left[\n",
        "\\begin{matrix}\n",
        " 0 & 3 & -2 & 0 \n",
        "\\end{matrix}\n",
        "\\right] \\left[\n",
        "\\begin{matrix}\n",
        "10 & -3 & -1 & 5\\\\\n",
        "-3 & 8 & 3 & 0\\\\\n",
        "-1 & 3 & 15 & 1\\\\\n",
        "5 & 0 & 1 & 4\\\\\n",
        "\\end{matrix}\n",
        "\\right] \\left[\n",
        "\\begin{matrix}\n",
        " 0\\\\\n",
        "3 \\\\\n",
        "-2\\\\\n",
        "0 \\\\\n",
        "\\end{matrix}\n",
        "\\right] = 96\n",
        "\\end{equation}$$\n"
      ],
      "metadata": {
        "id": "hSCabGVWHEvc"
      }
    },
    {
      "cell_type": "code",
      "source": [
        "sigma = np.matrix([[10.0, -3.0, -1.0, 5.0], [-3.0, 8.0, 3.0, 0.0], [-1.0, 3.0, 15.0, 1], [5.0, 0, 1.0, 4.0]])\n",
        "c = np.matrix([0,3, -2, 0])\n",
        "c* sigma* c.T"
      ],
      "metadata": {
        "colab": {
          "base_uri": "https://localhost:8080/"
        },
        "id": "6e5GH0BbHBpR",
        "outputId": "8f325734-ed5b-4e10-9196-f98997d99992"
      },
      "execution_count": 19,
      "outputs": [
        {
          "output_type": "execute_result",
          "data": {
            "text/plain": [
              "matrix([[96.]])"
            ]
          },
          "metadata": {},
          "execution_count": 19
        }
      ]
    },
    {
      "cell_type": "markdown",
      "source": [
        "C ) $Var ~ (2X_1-4X_2+3X_3-X_4)$\n",
        "\n",
        "Deacuerdo a las propiedades de la varianza tenemos:\n",
        "\n",
        "$$\\begin{equation} Var ~ (aX_1+ bX_2)  = Var ~ (\\textbf{c'X}) = \\textbf{c'}\n",
        "\\Sigma \\textbf{c}\n",
        "\\end{equation}$$\n",
        "\n",
        "siendo\n",
        "\n",
        "$$\\begin{equation}\n",
        " c  =\n",
        "\\left[\n",
        "\\begin{matrix}\n",
        " 2\\\\\n",
        "-4 \\\\\n",
        "3\\\\\n",
        "-1 \\\\\n",
        "\\end{matrix}\n",
        "\\right]\n",
        "\\end{equation}$$\n",
        "\n",
        "operando **c** y $\\Sigma$ tenemos\n",
        "\n",
        "\n",
        "$$\\begin{equation} \n",
        "Var ~ (3X_2-2X_3) = \n",
        "\\left[\n",
        "\\begin{matrix}\n",
        " 2 & -4 & 3 & -1 \n",
        "\\end{matrix}\n",
        "\\right] \\left[\n",
        "\\begin{matrix}\n",
        "10 & -3 & -1 & 5\\\\\n",
        "-3 & 8 & 3 & 0\\\\\n",
        "-1 & 3 & 15 & 1\\\\\n",
        "5 & 0 & 1 & 4\\\\\n",
        "\\end{matrix}\n",
        "\\right] \\left[\n",
        "\\begin{matrix}\n",
        " 2\\\\\n",
        "-4 \\\\\n",
        "3\\\\\n",
        "-1 \\\\\n",
        "\\end{matrix}\n",
        "\\right] = 245\n",
        "\\end{equation}$$"
      ],
      "metadata": {
        "id": "uRYeIxn6OSMf"
      }
    },
    {
      "cell_type": "code",
      "source": [
        "sigma = np.matrix([[10.0, -3.0, -1.0, 5.0], [-3.0, 8.0, 3.0, 0.0], [-1.0, 3.0, 15.0, 1], [5.0, 0, 1.0, 4.0]])\n",
        "c = np.matrix([2,-4, 3, -1])\n",
        "c* sigma* c.T"
      ],
      "metadata": {
        "colab": {
          "base_uri": "https://localhost:8080/"
        },
        "id": "KDo4n3wGOPaT",
        "outputId": "21f78fa9-b58d-4e50-d56e-bb971ddd48dc"
      },
      "execution_count": 20,
      "outputs": [
        {
          "output_type": "execute_result",
          "data": {
            "text/plain": [
              "matrix([[245.]])"
            ]
          },
          "metadata": {},
          "execution_count": 20
        }
      ]
    },
    {
      "cell_type": "code",
      "source": [],
      "metadata": {
        "id": "SoyyiYY7OfQj"
      },
      "execution_count": 20,
      "outputs": []
    }
  ]
}